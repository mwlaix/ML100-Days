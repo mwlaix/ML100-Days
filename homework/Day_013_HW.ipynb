{
 "cells": [
  {
   "cell_type": "markdown",
   "metadata": {},
   "source": [
    "## 練習時間\n",
    "參考 Day 12 範例程式，離散化你覺得有興趣的欄位，並嘗試找出有趣的訊息"
   ]
  },
  {
   "cell_type": "code",
   "execution_count": 59,
   "metadata": {},
   "outputs": [],
   "source": [
    "# Import 需要的套件\n",
    "import os\n",
    "import numpy as np\n",
    "import pandas as pd\n",
    "\n",
    "import matplotlib.pyplot as plt\n",
    "import seaborn as sns\n",
    "%matplotlib inline"
   ]
  },
  {
   "cell_type": "markdown",
   "metadata": {},
   "source": [
    "### 之前做過的處理"
   ]
  },
  {
   "cell_type": "code",
   "execution_count": 60,
   "metadata": {},
   "outputs": [],
   "source": [
    "# 設定 data_path\n",
    "dir_data = './data/'\n",
    "f_app_train = os.path.join(dir_data, 'application_train.csv')\n",
    "f_app_test = os.path.join(dir_data, 'application_test.csv')\n",
    "\n",
    "app_train = pd.read_csv(f_app_train)\n",
    "app_test = pd.read_csv(f_app_test)\n",
    "\n",
    "from sklearn.preprocessing import LabelEncoder\n",
    "\n",
    "# Create a label encoder object\n",
    "le = LabelEncoder()\n",
    "le_count = 0\n",
    "\n",
    "# Iterate through the columns\n",
    "for col in app_train:\n",
    "    if app_train[col].dtype == 'object':\n",
    "        # If 2 or fewer unique categories\n",
    "        if len(list(app_train[col].unique())) <= 2:\n",
    "            # Train on the training data\n",
    "            le.fit(app_train[col])\n",
    "            # Transform both training and testing data\n",
    "            app_train[col] = le.transform(app_train[col])\n",
    "            app_test[col] = le.transform(app_test[col])\n",
    "            \n",
    "            # Keep track of how many columns were label encoded\n",
    "            le_count += 1\n",
    "            \n",
    "app_train = pd.get_dummies(app_train)\n",
    "app_test = pd.get_dummies(app_test)\n",
    "\n",
    "# Create an anomalous flag column\n",
    "app_train['DAYS_EMPLOYED_ANOM'] = app_train[\"DAYS_EMPLOYED\"] == 365243\n",
    "app_train['DAYS_EMPLOYED'].replace({365243: np.nan}, inplace = True)\n",
    "# also apply to testing dataset\n",
    "app_test['DAYS_EMPLOYED_ANOM'] = app_test[\"DAYS_EMPLOYED\"] == 365243\n",
    "app_test[\"DAYS_EMPLOYED\"].replace({365243: np.nan}, inplace = True)\n",
    "\n",
    "# absolute the value of DAYS_BIRTH\n",
    "app_train['DAYS_BIRTH'] = abs(app_train['DAYS_BIRTH'])\n",
    "app_test['DAYS_BIRTH'] = abs(app_test['DAYS_BIRTH'])"
   ]
  },
  {
   "cell_type": "code",
   "execution_count": 61,
   "metadata": {},
   "outputs": [
    {
     "data": {
      "text/plain": [
       "0    -637.0\n",
       "1   -1188.0\n",
       "2    -225.0\n",
       "3   -3039.0\n",
       "4   -3038.0\n",
       "Name: DAYS_EMPLOYED, dtype: float64"
      ]
     },
     "execution_count": 61,
     "metadata": {},
     "output_type": "execute_result"
    }
   ],
   "source": [
    "app_train['DAYS_EMPLOYED'].head()"
   ]
  },
  {
   "cell_type": "code",
   "execution_count": 62,
   "metadata": {},
   "outputs": [
    {
     "data": {
      "text/plain": [
       "count    252137.000000\n",
       "mean       2384.169325\n",
       "std        2338.360162\n",
       "min           0.000000\n",
       "25%         767.000000\n",
       "50%        1648.000000\n",
       "75%        3175.000000\n",
       "max       17912.000000\n",
       "Name: DAYS_EMPLOYED, dtype: float64"
      ]
     },
     "execution_count": 62,
     "metadata": {},
     "output_type": "execute_result"
    }
   ],
   "source": [
    "app_train['DAYS_EMPLOYED'] = abs(app_train['DAYS_EMPLOYED'])\n",
    "app_train['DAYS_EMPLOYED'].describe()"
   ]
  },
  {
   "cell_type": "code",
   "execution_count": 63,
   "metadata": {},
   "outputs": [
    {
     "name": "stdout",
     "output_type": "stream",
     "text": [
      "-0.07495845742543962\n"
     ]
    },
    {
     "data": {
      "text/plain": [
       "count    252137.000000\n",
       "mean          6.531971\n",
       "std           6.406466\n",
       "min           0.000000\n",
       "25%           2.101370\n",
       "50%           4.515068\n",
       "75%           8.698630\n",
       "max          49.073973\n",
       "Name: DAYS_EMPLOYED, dtype: float64"
      ]
     },
     "execution_count": 63,
     "metadata": {},
     "output_type": "execute_result"
    }
   ],
   "source": [
    "print(app_train['TARGET'].corr(app_train['DAYS_EMPLOYED']))\n",
    "(app_train['DAYS_EMPLOYED']/365).describe()"
   ]
  },
  {
   "cell_type": "code",
   "execution_count": 64,
   "metadata": {},
   "outputs": [
    {
     "data": {
      "text/html": [
       "<div>\n",
       "<style scoped>\n",
       "    .dataframe tbody tr th:only-of-type {\n",
       "        vertical-align: middle;\n",
       "    }\n",
       "\n",
       "    .dataframe tbody tr th {\n",
       "        vertical-align: top;\n",
       "    }\n",
       "\n",
       "    .dataframe thead th {\n",
       "        text-align: right;\n",
       "    }\n",
       "</style>\n",
       "<table border=\"1\" class=\"dataframe\">\n",
       "  <thead>\n",
       "    <tr style=\"text-align: right;\">\n",
       "      <th></th>\n",
       "      <th>SK_ID_CURR</th>\n",
       "      <th>TARGET</th>\n",
       "      <th>NAME_CONTRACT_TYPE</th>\n",
       "      <th>FLAG_OWN_CAR</th>\n",
       "      <th>FLAG_OWN_REALTY</th>\n",
       "      <th>CNT_CHILDREN</th>\n",
       "      <th>AMT_INCOME_TOTAL</th>\n",
       "      <th>AMT_CREDIT</th>\n",
       "      <th>AMT_ANNUITY</th>\n",
       "      <th>AMT_GOODS_PRICE</th>\n",
       "      <th>...</th>\n",
       "      <th>WALLSMATERIAL_MODE_Block</th>\n",
       "      <th>WALLSMATERIAL_MODE_Mixed</th>\n",
       "      <th>WALLSMATERIAL_MODE_Monolithic</th>\n",
       "      <th>WALLSMATERIAL_MODE_Others</th>\n",
       "      <th>WALLSMATERIAL_MODE_Panel</th>\n",
       "      <th>WALLSMATERIAL_MODE_Stone, brick</th>\n",
       "      <th>WALLSMATERIAL_MODE_Wooden</th>\n",
       "      <th>EMERGENCYSTATE_MODE_No</th>\n",
       "      <th>EMERGENCYSTATE_MODE_Yes</th>\n",
       "      <th>DAYS_EMPLOYED_ANOM</th>\n",
       "    </tr>\n",
       "  </thead>\n",
       "  <tbody>\n",
       "    <tr>\n",
       "      <th>23691</th>\n",
       "      <td>127568</td>\n",
       "      <td>0</td>\n",
       "      <td>0</td>\n",
       "      <td>0</td>\n",
       "      <td>0</td>\n",
       "      <td>2</td>\n",
       "      <td>189000.0</td>\n",
       "      <td>983299.5</td>\n",
       "      <td>36571.5</td>\n",
       "      <td>904500.0</td>\n",
       "      <td>...</td>\n",
       "      <td>1</td>\n",
       "      <td>0</td>\n",
       "      <td>0</td>\n",
       "      <td>0</td>\n",
       "      <td>0</td>\n",
       "      <td>0</td>\n",
       "      <td>0</td>\n",
       "      <td>1</td>\n",
       "      <td>0</td>\n",
       "      <td>False</td>\n",
       "    </tr>\n",
       "    <tr>\n",
       "      <th>121625</th>\n",
       "      <td>241013</td>\n",
       "      <td>1</td>\n",
       "      <td>0</td>\n",
       "      <td>0</td>\n",
       "      <td>1</td>\n",
       "      <td>1</td>\n",
       "      <td>112500.0</td>\n",
       "      <td>134775.0</td>\n",
       "      <td>7438.5</td>\n",
       "      <td>112500.0</td>\n",
       "      <td>...</td>\n",
       "      <td>0</td>\n",
       "      <td>0</td>\n",
       "      <td>0</td>\n",
       "      <td>0</td>\n",
       "      <td>0</td>\n",
       "      <td>0</td>\n",
       "      <td>0</td>\n",
       "      <td>0</td>\n",
       "      <td>0</td>\n",
       "      <td>False</td>\n",
       "    </tr>\n",
       "  </tbody>\n",
       "</table>\n",
       "<p>2 rows × 244 columns</p>\n",
       "</div>"
      ],
      "text/plain": [
       "        SK_ID_CURR  TARGET  NAME_CONTRACT_TYPE  FLAG_OWN_CAR  FLAG_OWN_REALTY  \\\n",
       "23691       127568       0                   0             0                0   \n",
       "121625      241013       1                   0             0                1   \n",
       "\n",
       "        CNT_CHILDREN  AMT_INCOME_TOTAL  AMT_CREDIT  AMT_ANNUITY  \\\n",
       "23691              2          189000.0    983299.5      36571.5   \n",
       "121625             1          112500.0    134775.0       7438.5   \n",
       "\n",
       "        AMT_GOODS_PRICE         ...          WALLSMATERIAL_MODE_Block  \\\n",
       "23691          904500.0         ...                                 1   \n",
       "121625         112500.0         ...                                 0   \n",
       "\n",
       "        WALLSMATERIAL_MODE_Mixed  WALLSMATERIAL_MODE_Monolithic  \\\n",
       "23691                          0                              0   \n",
       "121625                         0                              0   \n",
       "\n",
       "        WALLSMATERIAL_MODE_Others  WALLSMATERIAL_MODE_Panel  \\\n",
       "23691                           0                         0   \n",
       "121625                          0                         0   \n",
       "\n",
       "        WALLSMATERIAL_MODE_Stone, brick  WALLSMATERIAL_MODE_Wooden  \\\n",
       "23691                                 0                          0   \n",
       "121625                                0                          0   \n",
       "\n",
       "        EMERGENCYSTATE_MODE_No  EMERGENCYSTATE_MODE_Yes  DAYS_EMPLOYED_ANOM  \n",
       "23691                        1                        0               False  \n",
       "121625                       0                        0               False  \n",
       "\n",
       "[2 rows x 244 columns]"
      ]
     },
     "execution_count": 64,
     "metadata": {},
     "output_type": "execute_result"
    }
   ],
   "source": [
    "#app_train[app_train['DAYS_EMPLOYED'] == 365243]\n",
    "days_employed = app_train[app_train['DAYS_EMPLOYED'] == 0]\n",
    "days_employed.head()"
   ]
  },
  {
   "cell_type": "code",
   "execution_count": 65,
   "metadata": {},
   "outputs": [
    {
     "name": "stdout",
     "output_type": "stream",
     "text": [
      "(0.0, 5.0]      136309\n",
      "(5.0, 10.0]      64872\n",
      "(10.0, 15.0]     27549\n",
      "(15.0, 20.0]     10849\n",
      "(20.0, 25.0]      6243\n",
      "(25.0, 30.0]      3308\n",
      "(30.0, 35.0]      1939\n",
      "(35.0, 40.0]       832\n",
      "(40.0, 45.0]       210\n",
      "(45.0, 50.0]        24\n",
      "Name: YEAR_BINNED, dtype: int64\n"
     ]
    },
    {
     "data": {
      "text/html": [
       "<div>\n",
       "<style scoped>\n",
       "    .dataframe tbody tr th:only-of-type {\n",
       "        vertical-align: middle;\n",
       "    }\n",
       "\n",
       "    .dataframe tbody tr th {\n",
       "        vertical-align: top;\n",
       "    }\n",
       "\n",
       "    .dataframe thead th {\n",
       "        text-align: right;\n",
       "    }\n",
       "</style>\n",
       "<table border=\"1\" class=\"dataframe\">\n",
       "  <thead>\n",
       "    <tr style=\"text-align: right;\">\n",
       "      <th></th>\n",
       "      <th>TARGET</th>\n",
       "      <th>DAYS_EMPLOYED</th>\n",
       "      <th>YEAR_EMPLOYED</th>\n",
       "      <th>YEAR_BINNED</th>\n",
       "    </tr>\n",
       "  </thead>\n",
       "  <tbody>\n",
       "    <tr>\n",
       "      <th>0</th>\n",
       "      <td>1</td>\n",
       "      <td>637.0</td>\n",
       "      <td>1.745205</td>\n",
       "      <td>(0.0, 5.0]</td>\n",
       "    </tr>\n",
       "    <tr>\n",
       "      <th>1</th>\n",
       "      <td>0</td>\n",
       "      <td>1188.0</td>\n",
       "      <td>3.254795</td>\n",
       "      <td>(0.0, 5.0]</td>\n",
       "    </tr>\n",
       "    <tr>\n",
       "      <th>2</th>\n",
       "      <td>0</td>\n",
       "      <td>225.0</td>\n",
       "      <td>0.616438</td>\n",
       "      <td>(0.0, 5.0]</td>\n",
       "    </tr>\n",
       "    <tr>\n",
       "      <th>3</th>\n",
       "      <td>0</td>\n",
       "      <td>3039.0</td>\n",
       "      <td>8.326027</td>\n",
       "      <td>(5.0, 10.0]</td>\n",
       "    </tr>\n",
       "    <tr>\n",
       "      <th>4</th>\n",
       "      <td>0</td>\n",
       "      <td>3038.0</td>\n",
       "      <td>8.323288</td>\n",
       "      <td>(5.0, 10.0]</td>\n",
       "    </tr>\n",
       "    <tr>\n",
       "      <th>5</th>\n",
       "      <td>0</td>\n",
       "      <td>1588.0</td>\n",
       "      <td>4.350685</td>\n",
       "      <td>(0.0, 5.0]</td>\n",
       "    </tr>\n",
       "    <tr>\n",
       "      <th>6</th>\n",
       "      <td>0</td>\n",
       "      <td>3130.0</td>\n",
       "      <td>8.575342</td>\n",
       "      <td>(5.0, 10.0]</td>\n",
       "    </tr>\n",
       "    <tr>\n",
       "      <th>7</th>\n",
       "      <td>0</td>\n",
       "      <td>449.0</td>\n",
       "      <td>1.230137</td>\n",
       "      <td>(0.0, 5.0]</td>\n",
       "    </tr>\n",
       "    <tr>\n",
       "      <th>9</th>\n",
       "      <td>0</td>\n",
       "      <td>2019.0</td>\n",
       "      <td>5.531507</td>\n",
       "      <td>(5.0, 10.0]</td>\n",
       "    </tr>\n",
       "    <tr>\n",
       "      <th>10</th>\n",
       "      <td>0</td>\n",
       "      <td>679.0</td>\n",
       "      <td>1.860274</td>\n",
       "      <td>(0.0, 5.0]</td>\n",
       "    </tr>\n",
       "  </tbody>\n",
       "</table>\n",
       "</div>"
      ],
      "text/plain": [
       "    TARGET  DAYS_EMPLOYED  YEAR_EMPLOYED  YEAR_BINNED\n",
       "0        1          637.0       1.745205   (0.0, 5.0]\n",
       "1        0         1188.0       3.254795   (0.0, 5.0]\n",
       "2        0          225.0       0.616438   (0.0, 5.0]\n",
       "3        0         3039.0       8.326027  (5.0, 10.0]\n",
       "4        0         3038.0       8.323288  (5.0, 10.0]\n",
       "5        0         1588.0       4.350685   (0.0, 5.0]\n",
       "6        0         3130.0       8.575342  (5.0, 10.0]\n",
       "7        0          449.0       1.230137   (0.0, 5.0]\n",
       "9        0         2019.0       5.531507  (5.0, 10.0]\n",
       "10       0          679.0       1.860274   (0.0, 5.0]"
      ]
     },
     "execution_count": 65,
     "metadata": {},
     "output_type": "execute_result"
    }
   ],
   "source": [
    "#app_train['YEAR_EMPLOYED'] = app_train['DAYS_EMPLOYED'] / 365\n",
    "#employed_data = app_train[['TARGET','DAYS_EMPLOYED']]\n",
    "employed_data = app_train.loc[app_train['DAYS_EMPLOYED'] > 0,['TARGET','DAYS_EMPLOYED']]\n",
    "employed_data['YEAR_EMPLOYED'] = employed_data['DAYS_EMPLOYED'] / 365\n",
    "\n",
    "# Equal Width Group\n",
    "employed_data['YEAR_BINNED'] = pd.cut(employed_data['YEAR_EMPLOYED'], bins = np.linspace(0, 50, num = 11))\n",
    "print(employed_data['YEAR_BINNED'].value_counts())\n",
    "\n",
    "employed_data.head(10)"
   ]
  },
  {
   "cell_type": "code",
   "execution_count": 66,
   "metadata": {},
   "outputs": [
    {
     "data": {
      "text/html": [
       "<div>\n",
       "<style scoped>\n",
       "    .dataframe tbody tr th:only-of-type {\n",
       "        vertical-align: middle;\n",
       "    }\n",
       "\n",
       "    .dataframe tbody tr th {\n",
       "        vertical-align: top;\n",
       "    }\n",
       "\n",
       "    .dataframe thead th {\n",
       "        text-align: right;\n",
       "    }\n",
       "</style>\n",
       "<table border=\"1\" class=\"dataframe\">\n",
       "  <thead>\n",
       "    <tr style=\"text-align: right;\">\n",
       "      <th></th>\n",
       "      <th>TARGET</th>\n",
       "      <th>DAYS_EMPLOYED</th>\n",
       "      <th>YEAR_EMPLOYED</th>\n",
       "    </tr>\n",
       "    <tr>\n",
       "      <th>YEAR_BINNED</th>\n",
       "      <th></th>\n",
       "      <th></th>\n",
       "      <th></th>\n",
       "    </tr>\n",
       "  </thead>\n",
       "  <tbody>\n",
       "    <tr>\n",
       "      <th>(0.0, 5.0]</th>\n",
       "      <td>0.105708</td>\n",
       "      <td>864.340763</td>\n",
       "      <td>2.368057</td>\n",
       "    </tr>\n",
       "    <tr>\n",
       "      <th>(5.0, 10.0]</th>\n",
       "      <td>0.073714</td>\n",
       "      <td>2630.224689</td>\n",
       "      <td>7.206095</td>\n",
       "    </tr>\n",
       "    <tr>\n",
       "      <th>(10.0, 15.0]</th>\n",
       "      <td>0.057752</td>\n",
       "      <td>4466.899670</td>\n",
       "      <td>12.238081</td>\n",
       "    </tr>\n",
       "    <tr>\n",
       "      <th>(15.0, 20.0]</th>\n",
       "      <td>0.048484</td>\n",
       "      <td>6306.860448</td>\n",
       "      <td>17.279070</td>\n",
       "    </tr>\n",
       "    <tr>\n",
       "      <th>(20.0, 25.0]</th>\n",
       "      <td>0.047573</td>\n",
       "      <td>8092.875701</td>\n",
       "      <td>22.172262</td>\n",
       "    </tr>\n",
       "    <tr>\n",
       "      <th>(25.0, 30.0]</th>\n",
       "      <td>0.039903</td>\n",
       "      <td>9961.437122</td>\n",
       "      <td>27.291609</td>\n",
       "    </tr>\n",
       "    <tr>\n",
       "      <th>(30.0, 35.0]</th>\n",
       "      <td>0.041258</td>\n",
       "      <td>11791.751418</td>\n",
       "      <td>32.306168</td>\n",
       "    </tr>\n",
       "    <tr>\n",
       "      <th>(35.0, 40.0]</th>\n",
       "      <td>0.019231</td>\n",
       "      <td>13517.634615</td>\n",
       "      <td>37.034615</td>\n",
       "    </tr>\n",
       "    <tr>\n",
       "      <th>(40.0, 45.0]</th>\n",
       "      <td>0.004762</td>\n",
       "      <td>15325.461905</td>\n",
       "      <td>41.987567</td>\n",
       "    </tr>\n",
       "    <tr>\n",
       "      <th>(45.0, 50.0]</th>\n",
       "      <td>0.000000</td>\n",
       "      <td>16862.916667</td>\n",
       "      <td>46.199772</td>\n",
       "    </tr>\n",
       "  </tbody>\n",
       "</table>\n",
       "</div>"
      ],
      "text/plain": [
       "                TARGET  DAYS_EMPLOYED  YEAR_EMPLOYED\n",
       "YEAR_BINNED                                         \n",
       "(0.0, 5.0]    0.105708     864.340763       2.368057\n",
       "(5.0, 10.0]   0.073714    2630.224689       7.206095\n",
       "(10.0, 15.0]  0.057752    4466.899670      12.238081\n",
       "(15.0, 20.0]  0.048484    6306.860448      17.279070\n",
       "(20.0, 25.0]  0.047573    8092.875701      22.172262\n",
       "(25.0, 30.0]  0.039903    9961.437122      27.291609\n",
       "(30.0, 35.0]  0.041258   11791.751418      32.306168\n",
       "(35.0, 40.0]  0.019231   13517.634615      37.034615\n",
       "(40.0, 45.0]  0.004762   15325.461905      41.987567\n",
       "(45.0, 50.0]  0.000000   16862.916667      46.199772"
      ]
     },
     "execution_count": 66,
     "metadata": {},
     "output_type": "execute_result"
    }
   ],
   "source": [
    "employed_group = employed_data.groupby('YEAR_BINNED').mean()\n",
    "employed_group"
   ]
  },
  {
   "cell_type": "code",
   "execution_count": 67,
   "metadata": {},
   "outputs": [
    {
     "data": {
      "text/plain": [
       "Text(0.5,1,'Failure to Repay by Employed Group')"
      ]
     },
     "execution_count": 67,
     "metadata": {},
     "output_type": "execute_result"
    },
    {
     "data": {
      "image/png": "[encoded data removed]",
      "text/plain": [
       "<Figure size 576x576 with 1 Axes>"
      ]
     },
     "metadata": {
      "needs_background": "light"
     },
     "output_type": "display_data"
    }
   ],
   "source": [
    "plt.figure(figsize = (8, 8))\n",
    "plt.bar(range(len(employed_group.index)), employed_group['TARGET'])\n",
    "plt.xticks(range(len(employed_group.index)), employed_group.index, rotation = 75)\n",
    "plt.xlabel('Employed Group (years)')\n",
    "plt.ylabel('Average Failure to Repay')\n",
    "plt.title('Failure to Repay by Employed Group')"
   ]
  }
 ],
 "metadata": {
  "kernelspec": {
   "display_name": "Python 3",
   "language": "python",
   "name": "python3"
  },
  "language_info": {
   "codemirror_mode": {
    "name": "ipython",
    "version": 3
   },
   "file_extension": ".py",
   "mimetype": "text/x-python",
   "name": "python",
   "nbconvert_exporter": "python",
   "pygments_lexer": "ipython3",
   "version": "3.7.1"
  }
 },
 "nbformat": 4,
 "nbformat_minor": 2
}
